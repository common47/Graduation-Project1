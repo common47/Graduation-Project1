{
 "cells": [
  {
   "cell_type": "code",
   "execution_count": 1,
   "id": "684be16f",
   "metadata": {},
   "outputs": [],
   "source": [
    "import os\n",
    "import csv\n",
    "\n",
    "# 폴더 경로 설정\n",
    "accident_folders = [\n",
    "    (r\"C:\\Users\\ime203\\Desktop\\classfication_data\\Car-to-Car\", 1),\n",
    "    (r\"C:\\Users\\ime203\\Desktop\\classfication_data\\Car-to-motorcycle\", 2),\n",
    "    (r\"C:\\Users\\ime203\\Desktop\\classfication_data\\Car-to-bicycle\", 2),\n",
    "    (r\"C:\\Users\\ime203\\Desktop\\classfication_data\\Car-to-Human\", 3),\n",
    "    (r\"C:\\Users\\ime203\\Desktop\\classfication_data\\No Accident\", 0)\n",
    "]\n",
    "\n",
    "# CSV 파일 생성\n",
    "csv_file = 'image_labels.csv'\n",
    "with open(csv_file, mode='w', newline='') as file:\n",
    "    writer = csv.writer(file)\n",
    "    writer.writerow(['image_path', 'label'])\n",
    "    \n",
    "    for folder, label in accident_folders:\n",
    "        for img_name in os.listdir(folder):\n",
    "            img_path = os.path.join(folder, img_name)\n",
    "            writer.writerow([img_path, label])\n"
   ]
  },
  {
   "cell_type": "code",
   "execution_count": 3,
   "id": "986803e0",
   "metadata": {},
   "outputs": [],
   "source": [
    "import torch\n",
    "from torch.utils.data import Dataset, DataLoader, SubsetRandomSampler\n",
    "from torchvision import transforms\n",
    "from PIL import Image\n",
    "import pandas as pd\n",
    "from sklearn.model_selection import train_test_split\n",
    "import numpy as np\n",
    "\n",
    "\n",
    "# Dataset class definition\n",
    "class AccidentDataset(Dataset):\n",
    "    def __init__(self, csv_file, transform=None):\n",
    "        self.data = pd.read_csv(csv_file)\n",
    "        self.transform = transform\n",
    "\n",
    "    def __len__(self):\n",
    "        return len(self.data)\n",
    "\n",
    "    def __getitem__(self, idx):\n",
    "        img_path = self.data.iloc[idx, 0]\n",
    "        image = Image.open(img_path).convert('RGB')\n",
    "        label = self.data.iloc[idx, 1]\n",
    "\n",
    "        if self.transform:\n",
    "            image = self.transform(image)\n",
    "\n",
    "        return image, label\n",
    "\n",
    "# Preprocessing and data augmentation\n",
    "transform = transforms.Compose([\n",
    "    transforms.Resize(256),\n",
    "    transforms.CenterCrop(224),\n",
    "    transforms.ToTensor(),\n",
    "    transforms.Normalize([0.485, 0.456, 0.406], [0.229, 0.224, 0.225])\n",
    "])\n",
    "\n",
    "# CSV file path\n",
    "csv_file = r\"C:\\Users\\ime203\\Downloads\\yolov8n\\image_labels.csv\"\n",
    "\n",
    "# Load dataset\n",
    "dataset = AccidentDataset(csv_file, transform=transform)\n",
    "\n",
    "# Split dataset into training and validation sets\n",
    "train_idx, val_idx = train_test_split(np.arange(len(dataset)), test_size=0.2, random_state=42)\n",
    "train_sampler = SubsetRandomSampler(train_idx)\n",
    "val_sampler = SubsetRandomSampler(val_idx)\n",
    "\n",
    "train_loader = DataLoader(dataset, batch_size=32, sampler=train_sampler)\n",
    "val_loader = DataLoader(dataset, batch_size=32, sampler=val_sampler)\n",
    "\n"
   ]
  },
  {
   "cell_type": "code",
   "execution_count": 8,
   "id": "279520f6",
   "metadata": {},
   "outputs": [
    {
     "name": "stderr",
     "output_type": "stream",
     "text": [
      "Epoch 1/5 - Training: 100%|██████████████████████████████████████████████████████████| 374/374 [39:58<00:00,  6.41s/it]\n"
     ]
    },
    {
     "name": "stdout",
     "output_type": "stream",
     "text": [
      "Epoch [1/5], Loss: 1.0137, Train Accuracy: 0.5864\n"
     ]
    },
    {
     "name": "stderr",
     "output_type": "stream",
     "text": [
      "Epoch 1/5 - Validation: 100%|██████████████████████████████████████████████████████████| 94/94 [05:54<00:00,  3.78s/it]\n"
     ]
    },
    {
     "name": "stdout",
     "output_type": "stream",
     "text": [
      "Epoch [1/5], Validation Loss: 0.9272, Validation Accuracy: 0.6477\n"
     ]
    },
    {
     "name": "stderr",
     "output_type": "stream",
     "text": [
      "Epoch 2/5 - Training: 100%|██████████████████████████████████████████████████████████| 374/374 [40:04<00:00,  6.43s/it]\n"
     ]
    },
    {
     "name": "stdout",
     "output_type": "stream",
     "text": [
      "Epoch [2/5], Loss: 0.8284, Train Accuracy: 0.7052\n"
     ]
    },
    {
     "name": "stderr",
     "output_type": "stream",
     "text": [
      "Epoch 2/5 - Validation: 100%|██████████████████████████████████████████████████████████| 94/94 [07:23<00:00,  4.72s/it]\n"
     ]
    },
    {
     "name": "stdout",
     "output_type": "stream",
     "text": [
      "Epoch [2/5], Validation Loss: 0.7989, Validation Accuracy: 0.7039\n"
     ]
    },
    {
     "name": "stderr",
     "output_type": "stream",
     "text": [
      "Epoch 3/5 - Training: 100%|██████████████████████████████████████████████████████████| 374/374 [41:07<00:00,  6.60s/it]\n"
     ]
    },
    {
     "name": "stdout",
     "output_type": "stream",
     "text": [
      "Epoch [3/5], Loss: 0.7327, Train Accuracy: 0.7454\n"
     ]
    },
    {
     "name": "stderr",
     "output_type": "stream",
     "text": [
      "Epoch 3/5 - Validation: 100%|██████████████████████████████████████████████████████████| 94/94 [06:14<00:00,  3.98s/it]\n"
     ]
    },
    {
     "name": "stdout",
     "output_type": "stream",
     "text": [
      "Epoch [3/5], Validation Loss: 0.7400, Validation Accuracy: 0.7477\n"
     ]
    },
    {
     "name": "stderr",
     "output_type": "stream",
     "text": [
      "Epoch 4/5 - Training: 100%|██████████████████████████████████████████████████████████| 374/374 [30:52<00:00,  4.95s/it]\n"
     ]
    },
    {
     "name": "stdout",
     "output_type": "stream",
     "text": [
      "Epoch [4/5], Loss: 0.6798, Train Accuracy: 0.7670\n"
     ]
    },
    {
     "name": "stderr",
     "output_type": "stream",
     "text": [
      "Epoch 4/5 - Validation: 100%|██████████████████████████████████████████████████████████| 94/94 [05:03<00:00,  3.23s/it]\n"
     ]
    },
    {
     "name": "stdout",
     "output_type": "stream",
     "text": [
      "Epoch [4/5], Validation Loss: 0.6576, Validation Accuracy: 0.7715\n"
     ]
    },
    {
     "name": "stderr",
     "output_type": "stream",
     "text": [
      "Epoch 5/5 - Training: 100%|██████████████████████████████████████████████████████████| 374/374 [29:10<00:00,  4.68s/it]\n"
     ]
    },
    {
     "name": "stdout",
     "output_type": "stream",
     "text": [
      "Epoch [5/5], Loss: 0.6442, Train Accuracy: 0.7817\n"
     ]
    },
    {
     "name": "stderr",
     "output_type": "stream",
     "text": [
      "Epoch 5/5 - Validation: 100%|██████████████████████████████████████████████████████████| 94/94 [04:54<00:00,  3.13s/it]\n"
     ]
    },
    {
     "name": "stdout",
     "output_type": "stream",
     "text": [
      "Epoch [5/5], Validation Loss: 0.6293, Validation Accuracy: 0.7819\n"
     ]
    },
    {
     "name": "stderr",
     "output_type": "stream",
     "text": [
      "Final Validation: 100%|████████████████████████████████████████████████████████████████| 94/94 [04:28<00:00,  2.86s/it]\n"
     ]
    },
    {
     "name": "stdout",
     "output_type": "stream",
     "text": [
      "Final Validation Accuracy: 0.7818668450986952\n",
      "Final Precision: 0.7792769771416872\n",
      "Final Recall: 0.7818668450986952\n",
      "Final F1 Score: 0.776253879127938\n"
     ]
    },
    {
     "data": {
      "image/png": "[encoded data removed]",
      "text/plain": [
       "<Figure size 1000x700 with 2 Axes>"
      ]
     },
     "metadata": {},
     "output_type": "display_data"
    }
   ],
   "source": [
    "import os\n",
    "import numpy as np\n",
    "import torch\n",
    "from torch import nn, optim\n",
    "from torch.utils.data import Dataset, DataLoader, SubsetRandomSampler\n",
    "from torchvision import transforms, models\n",
    "from PIL import Image\n",
    "import pandas as pd\n",
    "from sklearn.model_selection import train_test_split\n",
    "from sklearn.metrics import accuracy_score, confusion_matrix, precision_score, recall_score, f1_score\n",
    "import seaborn as sns\n",
    "import matplotlib.pyplot as plt\n",
    "from dotenv import load_dotenv\n",
    "from tqdm import tqdm\n",
    "\n",
    "# Googlenet+LSTM model definition\n",
    "class GooglenetLSTMClassifier(nn.Module):\n",
    "    def __init__(self, num_classes, hidden_dim=128, lstm_layers=2, lstm_dropout=0.5):\n",
    "        super(GooglenetLSTMClassifier, self).__init__()\n",
    "        self.cnn = models.googlenet(weights=models.GoogLeNet_Weights.DEFAULT)\n",
    "        num_ftrs = self.cnn.fc.in_features\n",
    "        self.cnn.fc = nn.Sequential(\n",
    "            nn.Dropout(p=0.5),\n",
    "            nn.Linear(num_ftrs, hidden_dim)\n",
    "        )\n",
    "        self.lstm = nn.LSTM(hidden_dim, hidden_dim, lstm_layers, batch_first=True, dropout=lstm_dropout)\n",
    "        self.fc = nn.Linear(hidden_dim, num_classes)\n",
    "\n",
    "    def forward(self, x):\n",
    "        if len(x.shape) == 5:\n",
    "            batch_size, seq_length, c, h, w = x.size()\n",
    "            cnn_out = []\n",
    "            for t in range(seq_length):\n",
    "                cnn_out.append(self.cnn(x[:, t, :, :, :]))\n",
    "\n",
    "            cnn_out = torch.stack(cnn_out, dim=1)\n",
    "            lstm_out, _ = self.lstm(cnn_out)\n",
    "            lstm_out = lstm_out[:, -1, :]\n",
    "            out = self.fc(lstm_out)\n",
    "        elif len(x.shape) == 4:\n",
    "            cnn_out = self.cnn(x)\n",
    "            lstm_out, _ = self.lstm(cnn_out.unsqueeze(1))\n",
    "            lstm_out = lstm_out[:, -1, :]\n",
    "            out = self.fc(lstm_out)\n",
    "        else:\n",
    "            raise ValueError(\"Unsupported input shape\")\n",
    "\n",
    "        return out\n",
    "\n",
    "\n",
    "# Initialize the Googlenet+LSTM model\n",
    "num_classes = 4\n",
    "googlenet_lstm_model = GooglenetLSTMClassifier(num_classes=num_classes)\n",
    "\n",
    "# Loss function and optimizer\n",
    "criterion = nn.CrossEntropyLoss()\n",
    "optimizer = optim.Adam(googlenet_lstm_model.parameters(), lr=0.001)\n",
    "\n",
    "# Training and validation code (similar to the code provided in the original snippet)\n",
    "\n",
    "\n",
    "# Training the CNN+LSTM model\n",
    "num_epochs = 5\n",
    "for epoch in range(num_epochs):\n",
    "    googlenet_lstm_model.train()\n",
    "    running_loss = 0.0\n",
    "    correct = 0\n",
    "    total = 0\n",
    "\n",
    "    for images, labels in tqdm(train_loader, desc=f\"Epoch {epoch + 1}/{num_epochs} - Training\"):\n",
    "        optimizer.zero_grad()\n",
    "        outputs = googlenet_lstm_model(images)\n",
    "        loss = criterion(outputs, labels)\n",
    "        loss.backward()\n",
    "        optimizer.step()\n",
    "        running_loss += loss.item()\n",
    "\n",
    "        _, predicted = torch.max(outputs, 1)\n",
    "        total += labels.size(0)\n",
    "        correct += (predicted == labels).sum().item()\n",
    "\n",
    "    train_accuracy = correct / total\n",
    "    print(f\"Epoch [{epoch + 1}/{num_epochs}], Loss: {running_loss / len(train_loader):.4f}, Train Accuracy: {train_accuracy:.4f}\")\n",
    "\n",
    "\n",
    "    # Validation\n",
    "    googlenet_lstm_model.eval()\n",
    "    val_running_loss = 0.0\n",
    "    val_predictions = []\n",
    "    val_labels = []\n",
    "    with torch.no_grad():\n",
    "        for images, labels in tqdm(val_loader, desc=f\"Epoch {epoch + 1}/{num_epochs} - Validation\"):\n",
    "            outputs = googlenet_lstm_model(images)\n",
    "            loss = criterion(outputs, labels)\n",
    "            val_running_loss += loss.item()\n",
    "            _, predicted = torch.max(outputs, 1)\n",
    "            val_predictions.extend(predicted.numpy())\n",
    "            val_labels.extend(labels.numpy())\n",
    "\n",
    "    val_accuracy = accuracy_score(val_labels, val_predictions)\n",
    "    val_loss = val_running_loss / len(val_loader)\n",
    "    print(f'Epoch [{epoch + 1}/{num_epochs}], Validation Loss: {val_loss:.4f}, Validation Accuracy: {val_accuracy:.4f}')\n",
    "\n",
    "# Final evaluation\n",
    "googlenet_lstm_model.eval()\n",
    "val_predictions = []\n",
    "val_labels = []\n",
    "with torch.no_grad():\n",
    "    for images, labels in tqdm(val_loader, desc=\"Final Validation\"):\n",
    "        outputs = googlenet_lstm_model(images)\n",
    "        _, predicted = torch.max(outputs, 1)\n",
    "        val_predictions.extend(predicted.numpy())\n",
    "        val_labels.extend(labels.numpy())\n",
    "\n",
    "# Evaluate the final model\n",
    "val_accuracy = accuracy_score(val_labels, val_predictions)\n",
    "conf_matrix = confusion_matrix(val_labels, val_predictions)\n",
    "prec = precision_score(val_labels, val_predictions, average='weighted')\n",
    "rec = recall_score(val_labels, val_predictions, average='weighted')\n",
    "f1 = f1_score(val_labels, val_predictions, average='weighted')\n",
    "\n",
    "print(f'Final Validation Accuracy: {val_accuracy}')\n",
    "print(f'Final Precision: {prec}')\n",
    "print(f'Final Recall: {rec}')\n",
    "print(f'Final F1 Score: {f1}')\n",
    "\n",
    "# Plot confusion matrix\n",
    "plt.figure(figsize=(10, 7))\n",
    "sns.heatmap(conf_matrix, annot=True, fmt='d', cmap='Blues')\n",
    "plt.xlabel('Predicted')\n",
    "plt.ylabel('True')\n",
    "plt.title('Confusion Matrix for Final Model')\n",
    "plt.show()\n"
   ]
  },
  {
   "cell_type": "code",
   "execution_count": null,
   "id": "73204583",
   "metadata": {},
   "outputs": [],
   "source": []
  }
 ],
 "metadata": {
  "kernelspec": {
   "display_name": "Python 3 (ipykernel)",
   "language": "python",
   "name": "python3"
  },
  "language_info": {
   "codemirror_mode": {
    "name": "ipython",
    "version": 3
   },
   "file_extension": ".py",
   "mimetype": "text/x-python",
   "name": "python",
   "nbconvert_exporter": "python",
   "pygments_lexer": "ipython3",
   "version": "3.9.13"
  }
 },
 "nbformat": 4,
 "nbformat_minor": 5
}
