{
 "cells": [
  {
   "cell_type": "code",
   "execution_count": 2,
   "id": "1ea4c1ea",
   "metadata": {},
   "outputs": [],
   "source": [
    "import torch\n",
    "from torch.utils.data import Dataset, DataLoader, SubsetRandomSampler\n",
    "from torchvision import transforms\n",
    "from PIL import Image\n",
    "import pandas as pd\n",
    "from sklearn.model_selection import train_test_split\n",
    "import numpy as np\n",
    "\n",
    "\n",
    "# Dataset class definition\n",
    "class AccidentDataset(Dataset):\n",
    "    def __init__(self, csv_file, transform=None):\n",
    "        self.data = pd.read_csv(csv_file)\n",
    "        self.transform = transform\n",
    "\n",
    "    def __len__(self):\n",
    "        return len(self.data)\n",
    "\n",
    "    def __getitem__(self, idx):\n",
    "        img_path = self.data.iloc[idx, 0]\n",
    "        image = Image.open(img_path).convert('RGB')\n",
    "        label = self.data.iloc[idx, 1]\n",
    "\n",
    "        if self.transform:\n",
    "            image = self.transform(image)\n",
    "\n",
    "        return image, label\n",
    "\n",
    "# Preprocessing and data augmentation\n",
    "transform = transforms.Compose([\n",
    "    transforms.Resize(256),\n",
    "    transforms.CenterCrop(224),\n",
    "    transforms.ToTensor(),\n",
    "    transforms.Normalize([0.485, 0.456, 0.406], [0.229, 0.224, 0.225])\n",
    "])\n",
    "\n",
    "# CSV file path\n",
    "csv_file = r\"C:\\Users\\ime203\\Desktop\\Graduation\\image_labels.csv\"\n",
    "\n",
    "# Load dataset\n",
    "dataset = AccidentDataset(csv_file, transform=transform)\n",
    "\n",
    "# Split dataset into training and validation sets\n",
    "train_idx, val_idx = train_test_split(np.arange(len(dataset)), test_size=0.2, random_state=42)\n",
    "train_sampler = SubsetRandomSampler(train_idx)\n",
    "val_sampler = SubsetRandomSampler(val_idx)\n",
    "\n",
    "train_loader = DataLoader(dataset, batch_size=32, sampler=train_sampler)\n",
    "val_loader = DataLoader(dataset, batch_size=32, sampler=val_sampler)\n",
    "\n"
   ]
  },
  {
   "cell_type": "code",
   "execution_count": 3,
   "id": "73109656",
   "metadata": {},
   "outputs": [
    {
     "name": "stderr",
     "output_type": "stream",
     "text": [
      "C:\\Users\\ime203\\anaconda3\\lib\\site-packages\\torchvision\\models\\_utils.py:208: UserWarning: The parameter 'pretrained' is deprecated since 0.13 and may be removed in the future, please use 'weights' instead.\n",
      "  warnings.warn(\n",
      "C:\\Users\\ime203\\anaconda3\\lib\\site-packages\\torchvision\\models\\_utils.py:223: UserWarning: Arguments other than a weight enum or `None` for 'weights' are deprecated since 0.13 and may be removed in the future. The current behavior is equivalent to passing `weights=MobileNet_V2_Weights.IMAGENET1K_V1`. You can also use `weights=MobileNet_V2_Weights.DEFAULT` to get the most up-to-date weights.\n",
      "  warnings.warn(msg)\n",
      "Downloading: \"https://download.pytorch.org/models/mobilenet_v2-b0353104.pth\" to C:\\Users\\ime203/.cache\\torch\\hub\\checkpoints\\mobilenet_v2-b0353104.pth\n",
      "100%|█████████████████████████████████████████████████████████████████████████████| 13.6M/13.6M [00:00<00:00, 29.5MB/s]\n",
      "Epoch 1/5 - Training: 100%|██████████████████████████████████████████████████████████| 374/374 [22:24<00:00,  3.59s/it]\n"
     ]
    },
    {
     "name": "stdout",
     "output_type": "stream",
     "text": [
      "Epoch [1/5], Loss: 0.9950, Train Accuracy: 0.6072\n"
     ]
    },
    {
     "name": "stderr",
     "output_type": "stream",
     "text": [
      "Epoch 1/5 - Validation: 100%|██████████████████████████████████████████████████████████| 94/94 [03:30<00:00,  2.24s/it]\n"
     ]
    },
    {
     "name": "stdout",
     "output_type": "stream",
     "text": [
      "Epoch [1/5], Validation Loss: 0.9283, Validation Accuracy: 0.6156\n"
     ]
    },
    {
     "name": "stderr",
     "output_type": "stream",
     "text": [
      "Epoch 2/5 - Training: 100%|██████████████████████████████████████████████████████████| 374/374 [21:55<00:00,  3.52s/it]\n"
     ]
    },
    {
     "name": "stdout",
     "output_type": "stream",
     "text": [
      "Epoch [2/5], Loss: 0.8614, Train Accuracy: 0.6713\n"
     ]
    },
    {
     "name": "stderr",
     "output_type": "stream",
     "text": [
      "Epoch 2/5 - Validation: 100%|██████████████████████████████████████████████████████████| 94/94 [03:36<00:00,  2.30s/it]\n"
     ]
    },
    {
     "name": "stdout",
     "output_type": "stream",
     "text": [
      "Epoch [2/5], Validation Loss: 0.8990, Validation Accuracy: 0.6353\n"
     ]
    },
    {
     "name": "stderr",
     "output_type": "stream",
     "text": [
      "Epoch 3/5 - Training: 100%|██████████████████████████████████████████████████████████| 374/374 [21:16<00:00,  3.41s/it]\n"
     ]
    },
    {
     "name": "stdout",
     "output_type": "stream",
     "text": [
      "Epoch [3/5], Loss: 0.8202, Train Accuracy: 0.7036\n"
     ]
    },
    {
     "name": "stderr",
     "output_type": "stream",
     "text": [
      "Epoch 3/5 - Validation: 100%|██████████████████████████████████████████████████████████| 94/94 [03:36<00:00,  2.30s/it]\n"
     ]
    },
    {
     "name": "stdout",
     "output_type": "stream",
     "text": [
      "Epoch [3/5], Validation Loss: 0.8498, Validation Accuracy: 0.6915\n"
     ]
    },
    {
     "name": "stderr",
     "output_type": "stream",
     "text": [
      "Epoch 4/5 - Training: 100%|██████████████████████████████████████████████████████████| 374/374 [20:15<00:00,  3.25s/it]\n"
     ]
    },
    {
     "name": "stdout",
     "output_type": "stream",
     "text": [
      "Epoch [4/5], Loss: 0.7980, Train Accuracy: 0.7278\n"
     ]
    },
    {
     "name": "stderr",
     "output_type": "stream",
     "text": [
      "Epoch 4/5 - Validation: 100%|██████████████████████████████████████████████████████████| 94/94 [03:38<00:00,  2.33s/it]\n"
     ]
    },
    {
     "name": "stdout",
     "output_type": "stream",
     "text": [
      "Epoch [4/5], Validation Loss: 0.8990, Validation Accuracy: 0.6879\n"
     ]
    },
    {
     "name": "stderr",
     "output_type": "stream",
     "text": [
      "Epoch 5/5 - Training: 100%|██████████████████████████████████████████████████████████| 374/374 [20:05<00:00,  3.22s/it]\n"
     ]
    },
    {
     "name": "stdout",
     "output_type": "stream",
     "text": [
      "Epoch [5/5], Loss: 0.7878, Train Accuracy: 0.7378\n"
     ]
    },
    {
     "name": "stderr",
     "output_type": "stream",
     "text": [
      "Epoch 5/5 - Validation: 100%|██████████████████████████████████████████████████████████| 94/94 [03:17<00:00,  2.10s/it]\n"
     ]
    },
    {
     "name": "stdout",
     "output_type": "stream",
     "text": [
      "Epoch [5/5], Validation Loss: 0.7874, Validation Accuracy: 0.7367\n"
     ]
    },
    {
     "name": "stderr",
     "output_type": "stream",
     "text": [
      "Final Validation: 100%|████████████████████████████████████████████████████████████████| 94/94 [03:27<00:00,  2.21s/it]\n"
     ]
    },
    {
     "name": "stdout",
     "output_type": "stream",
     "text": [
      "Final Validation Accuracy: 0.7367012378721981\n",
      "Final Precision: 0.7330401286246387\n",
      "Final Recall: 0.7367012378721981\n",
      "Final F1 Score: 0.7241045488823263\n"
     ]
    },
    {
     "data": {
      "image/png": "[encoded data removed]",
      "text/plain": [
       "<Figure size 1000x700 with 2 Axes>"
      ]
     },
     "metadata": {},
     "output_type": "display_data"
    }
   ],
   "source": [
    "import os\n",
    "import numpy as np\n",
    "import torch\n",
    "from torch import nn, optim\n",
    "from torch.utils.data import Dataset, DataLoader, SubsetRandomSampler\n",
    "from torchvision import transforms, models\n",
    "from PIL import Image\n",
    "import pandas as pd\n",
    "from sklearn.model_selection import train_test_split\n",
    "from sklearn.metrics import accuracy_score, confusion_matrix, precision_score, recall_score, f1_score\n",
    "import seaborn as sns\n",
    "import matplotlib.pyplot as plt\n",
    "from dotenv import load_dotenv\n",
    "from tqdm import tqdm\n",
    "\n",
    "\n",
    "# CNN+LSTM model definition using MobileNetV2\n",
    "class CNNLSTMClassifierMobileNetV2(nn.Module):\n",
    "    def __init__(self, num_classes, hidden_dim=128, lstm_layers=2, lstm_dropout=0.5):\n",
    "        super(CNNLSTMClassifierMobileNetV2, self).__init__()\n",
    "        self.cnn = models.mobilenet_v2(pretrained=True)\n",
    "        num_ftrs = self.cnn.classifier[1].in_features\n",
    "        self.cnn.classifier = nn.Sequential(\n",
    "            nn.Dropout(p=0.5),\n",
    "            nn.Linear(num_ftrs, hidden_dim)\n",
    "        )\n",
    "        self.lstm = nn.LSTM(hidden_dim, hidden_dim, lstm_layers, batch_first=True, dropout=lstm_dropout)\n",
    "        self.fc = nn.Linear(hidden_dim, num_classes)\n",
    "\n",
    "    def forward(self, x):\n",
    "        if len(x.shape) == 5:\n",
    "            batch_size, seq_length, c, h, w = x.size()\n",
    "            cnn_out = []\n",
    "            for t in range(seq_length):\n",
    "                cnn_out.append(self.cnn(x[:, t, :, :, :]))\n",
    "\n",
    "            cnn_out = torch.stack(cnn_out, dim=1)\n",
    "            lstm_out, _ = self.lstm(cnn_out)\n",
    "            lstm_out = lstm_out[:, -1, :]\n",
    "            out = self.fc(lstm_out)\n",
    "        elif len(x.shape) == 4:\n",
    "            cnn_out = self.cnn(x)\n",
    "            lstm_out, _ = self.lstm(cnn_out.unsqueeze(1))\n",
    "            lstm_out = lstm_out[:, -1, :]\n",
    "            out = self.fc(lstm_out)\n",
    "        else:\n",
    "            raise ValueError(\"Unsupported input shape\")\n",
    "\n",
    "        return out\n",
    "\n",
    "# Initialize the CNN+LSTM model using MobileNetV2\n",
    "num_classes = 4\n",
    "cnn_lstm_model = CNNLSTMClassifierMobileNetV2(num_classes=num_classes)\n",
    "\n",
    "\n",
    "# Loss function and optimizer\n",
    "criterion = nn.CrossEntropyLoss()\n",
    "optimizer = optim.Adam(cnn_lstm_model.parameters(), lr=0.001)\n",
    "\n",
    "# Training the CNN+LSTM model\n",
    "num_epochs = 5\n",
    "for epoch in range(num_epochs):\n",
    "    cnn_lstm_model.train()\n",
    "    running_loss = 0.0\n",
    "    correct = 0\n",
    "    total = 0\n",
    "\n",
    "    for images, labels in tqdm(train_loader, desc=f\"Epoch {epoch + 1}/{num_epochs} - Training\"):\n",
    "        optimizer.zero_grad()\n",
    "        outputs = cnn_lstm_model(images)\n",
    "        loss = criterion(outputs, labels)\n",
    "        loss.backward()\n",
    "        optimizer.step()\n",
    "        running_loss += loss.item()\n",
    "\n",
    "        _, predicted = torch.max(outputs, 1)\n",
    "        total += labels.size(0)\n",
    "        correct += (predicted == labels).sum().item()\n",
    "\n",
    "    train_accuracy = correct / total\n",
    "    print(f\"Epoch [{epoch + 1}/{num_epochs}], Loss: {running_loss / len(train_loader):.4f}, Train Accuracy: {train_accuracy:.4f}\")\n",
    "\n",
    "    # Validation\n",
    "    cnn_lstm_model.eval()\n",
    "    val_running_loss = 0.0\n",
    "    val_predictions = []\n",
    "    val_labels = []\n",
    "    with torch.no_grad():\n",
    "        for images, labels in tqdm(val_loader, desc=f\"Epoch {epoch + 1}/{num_epochs} - Validation\"):\n",
    "            outputs = cnn_lstm_model(images)\n",
    "            loss = criterion(outputs, labels)\n",
    "            val_running_loss += loss.item()\n",
    "            _, predicted = torch.max(outputs, 1)\n",
    "            val_predictions.extend(predicted.numpy())\n",
    "            val_labels.extend(labels.numpy())\n",
    "\n",
    "    val_accuracy = accuracy_score(val_labels, val_predictions)\n",
    "    val_loss = val_running_loss / len(val_loader)\n",
    "    print(f'Epoch [{epoch + 1}/{num_epochs}], Validation Loss: {val_loss:.4f}, Validation Accuracy: {val_accuracy:.4f}')\n",
    "\n",
    "# Final evaluation\n",
    "cnn_lstm_model.eval()\n",
    "val_predictions = []\n",
    "val_labels = []\n",
    "with torch.no_grad():\n",
    "    for images, labels in tqdm(val_loader, desc=\"Final Validation\"):\n",
    "        outputs = cnn_lstm_model(images)\n",
    "        _, predicted = torch.max(outputs, 1)\n",
    "        val_predictions.extend(predicted.numpy())\n",
    "        val_labels.extend(labels.numpy())\n",
    "\n",
    "# Evaluate the final model\n",
    "val_accuracy = accuracy_score(val_labels, val_predictions)\n",
    "conf_matrix = confusion_matrix(val_labels, val_predictions)\n",
    "prec = precision_score(val_labels, val_predictions, average='weighted')\n",
    "rec = recall_score(val_labels, val_predictions, average='weighted')\n",
    "f1 = f1_score(val_labels, val_predictions, average='weighted')\n",
    "\n",
    "print(f'Final Validation Accuracy: {val_accuracy}')\n",
    "print(f'Final Precision: {prec}')\n",
    "print(f'Final Recall: {rec}')\n",
    "print(f'Final F1 Score: {f1}')\n",
    "\n",
    "# Plot confusion matrix\n",
    "plt.figure(figsize=(10, 7))\n",
    "sns.heatmap(conf_matrix, annot=True, fmt='d', cmap='Blues')\n",
    "plt.xlabel('Predicted')\n",
    "plt.ylabel('True')\n",
    "plt.title('Confusion Matrix for Final Model')\n",
    "plt.show()"
   ]
  },
  {
   "cell_type": "code",
   "execution_count": null,
   "id": "dfaceb03",
   "metadata": {},
   "outputs": [],
   "source": []
  }
 ],
 "metadata": {
  "kernelspec": {
   "display_name": "Python 3 (ipykernel)",
   "language": "python",
   "name": "python3"
  },
  "language_info": {
   "codemirror_mode": {
    "name": "ipython",
    "version": 3
   },
   "file_extension": ".py",
   "mimetype": "text/x-python",
   "name": "python",
   "nbconvert_exporter": "python",
   "pygments_lexer": "ipython3",
   "version": "3.10.9"
  }
 },
 "nbformat": 4,
 "nbformat_minor": 5
}
